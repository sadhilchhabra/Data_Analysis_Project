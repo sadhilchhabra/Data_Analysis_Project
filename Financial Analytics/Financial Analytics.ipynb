{
 "cells": [
  {
   "cell_type": "code",
   "execution_count": 1,
   "id": "c06a555a",
   "metadata": {},
   "outputs": [],
   "source": [
    "import numpy as np\n",
    "import pandas as pd\n",
    "import seaborn as sns\n",
    "import matplotlib.pyplot as plt"
   ]
  },
  {
   "cell_type": "markdown",
   "id": "c0902cf7",
   "metadata": {},
   "source": [
    "# Data Exploration"
   ]
  },
  {
   "cell_type": "code",
   "execution_count": 2,
   "id": "f1969b6c",
   "metadata": {},
   "outputs": [
    {
     "data": {
      "text/html": [
       "<div>\n",
       "<style scoped>\n",
       "    .dataframe tbody tr th:only-of-type {\n",
       "        vertical-align: middle;\n",
       "    }\n",
       "\n",
       "    .dataframe tbody tr th {\n",
       "        vertical-align: top;\n",
       "    }\n",
       "\n",
       "    .dataframe thead th {\n",
       "        text-align: right;\n",
       "    }\n",
       "</style>\n",
       "<table border=\"1\" class=\"dataframe\">\n",
       "  <thead>\n",
       "    <tr style=\"text-align: right;\">\n",
       "      <th></th>\n",
       "      <th>S.No.</th>\n",
       "      <th>Company Name</th>\n",
       "      <th>Mar Cap - Crore</th>\n",
       "      <th>Sales Qtr - Crore</th>\n",
       "    </tr>\n",
       "  </thead>\n",
       "  <tbody>\n",
       "    <tr>\n",
       "      <th>0</th>\n",
       "      <td>1</td>\n",
       "      <td>Reliance Inds.</td>\n",
       "      <td>583436.72</td>\n",
       "      <td>99810.00</td>\n",
       "    </tr>\n",
       "    <tr>\n",
       "      <th>1</th>\n",
       "      <td>2</td>\n",
       "      <td>TCS</td>\n",
       "      <td>563709.84</td>\n",
       "      <td>30904.00</td>\n",
       "    </tr>\n",
       "    <tr>\n",
       "      <th>2</th>\n",
       "      <td>3</td>\n",
       "      <td>HDFC Bank</td>\n",
       "      <td>482953.59</td>\n",
       "      <td>20581.27</td>\n",
       "    </tr>\n",
       "    <tr>\n",
       "      <th>3</th>\n",
       "      <td>4</td>\n",
       "      <td>ITC</td>\n",
       "      <td>320985.27</td>\n",
       "      <td>9772.02</td>\n",
       "    </tr>\n",
       "    <tr>\n",
       "      <th>4</th>\n",
       "      <td>5</td>\n",
       "      <td>H D F C</td>\n",
       "      <td>289497.37</td>\n",
       "      <td>16840.51</td>\n",
       "    </tr>\n",
       "  </tbody>\n",
       "</table>\n",
       "</div>"
      ],
      "text/plain": [
       "   S.No.    Company Name  Mar Cap - Crore  Sales Qtr - Crore\n",
       "0      1  Reliance Inds.        583436.72           99810.00\n",
       "1      2             TCS        563709.84           30904.00\n",
       "2      3       HDFC Bank        482953.59           20581.27\n",
       "3      4             ITC        320985.27            9772.02\n",
       "4      5         H D F C        289497.37           16840.51"
      ]
     },
     "execution_count": 2,
     "metadata": {},
     "output_type": "execute_result"
    }
   ],
   "source": [
    "df = pd.read_csv('Financial Analytics data.csv')\n",
    "df.head()"
   ]
  },
  {
   "cell_type": "code",
   "execution_count": 3,
   "id": "edd241fe",
   "metadata": {},
   "outputs": [
    {
     "data": {
      "text/plain": [
       "(488, 4)"
      ]
     },
     "execution_count": 3,
     "metadata": {},
     "output_type": "execute_result"
    }
   ],
   "source": [
    "df.shape"
   ]
  },
  {
   "cell_type": "markdown",
   "id": "75c9399d",
   "metadata": {},
   "source": [
    "### Dropping Useless Colunms"
   ]
  },
  {
   "cell_type": "code",
   "execution_count": 4,
   "id": "cdda2057",
   "metadata": {},
   "outputs": [
    {
     "data": {
      "text/html": [
       "<div>\n",
       "<style scoped>\n",
       "    .dataframe tbody tr th:only-of-type {\n",
       "        vertical-align: middle;\n",
       "    }\n",
       "\n",
       "    .dataframe tbody tr th {\n",
       "        vertical-align: top;\n",
       "    }\n",
       "\n",
       "    .dataframe thead th {\n",
       "        text-align: right;\n",
       "    }\n",
       "</style>\n",
       "<table border=\"1\" class=\"dataframe\">\n",
       "  <thead>\n",
       "    <tr style=\"text-align: right;\">\n",
       "      <th></th>\n",
       "      <th>Company Name</th>\n",
       "      <th>Mar Cap - Crore</th>\n",
       "      <th>Sales Qtr - Crore</th>\n",
       "    </tr>\n",
       "  </thead>\n",
       "  <tbody>\n",
       "    <tr>\n",
       "      <th>0</th>\n",
       "      <td>Reliance Inds.</td>\n",
       "      <td>583436.72</td>\n",
       "      <td>99810.00</td>\n",
       "    </tr>\n",
       "    <tr>\n",
       "      <th>1</th>\n",
       "      <td>TCS</td>\n",
       "      <td>563709.84</td>\n",
       "      <td>30904.00</td>\n",
       "    </tr>\n",
       "    <tr>\n",
       "      <th>2</th>\n",
       "      <td>HDFC Bank</td>\n",
       "      <td>482953.59</td>\n",
       "      <td>20581.27</td>\n",
       "    </tr>\n",
       "    <tr>\n",
       "      <th>3</th>\n",
       "      <td>ITC</td>\n",
       "      <td>320985.27</td>\n",
       "      <td>9772.02</td>\n",
       "    </tr>\n",
       "    <tr>\n",
       "      <th>4</th>\n",
       "      <td>H D F C</td>\n",
       "      <td>289497.37</td>\n",
       "      <td>16840.51</td>\n",
       "    </tr>\n",
       "  </tbody>\n",
       "</table>\n",
       "</div>"
      ],
      "text/plain": [
       "     Company Name  Mar Cap - Crore  Sales Qtr - Crore\n",
       "0  Reliance Inds.        583436.72           99810.00\n",
       "1             TCS        563709.84           30904.00\n",
       "2       HDFC Bank        482953.59           20581.27\n",
       "3             ITC        320985.27            9772.02\n",
       "4         H D F C        289497.37           16840.51"
      ]
     },
     "execution_count": 4,
     "metadata": {},
     "output_type": "execute_result"
    }
   ],
   "source": [
    "df.drop(columns = ['S.No.'], inplace=True)\n",
    "df.head()"
   ]
  },
  {
   "cell_type": "markdown",
   "id": "10f6894d",
   "metadata": {},
   "source": [
    "### Changing Column names for better understanding"
   ]
  },
  {
   "cell_type": "code",
   "execution_count": 5,
   "id": "9f1dec8e",
   "metadata": {},
   "outputs": [
    {
     "data": {
      "text/html": [
       "<div>\n",
       "<style scoped>\n",
       "    .dataframe tbody tr th:only-of-type {\n",
       "        vertical-align: middle;\n",
       "    }\n",
       "\n",
       "    .dataframe tbody tr th {\n",
       "        vertical-align: top;\n",
       "    }\n",
       "\n",
       "    .dataframe thead th {\n",
       "        text-align: right;\n",
       "    }\n",
       "</style>\n",
       "<table border=\"1\" class=\"dataframe\">\n",
       "  <thead>\n",
       "    <tr style=\"text-align: right;\">\n",
       "      <th></th>\n",
       "      <th>Name</th>\n",
       "      <th>MarketCap_Crore</th>\n",
       "      <th>SalesQuater_Crore</th>\n",
       "    </tr>\n",
       "  </thead>\n",
       "  <tbody>\n",
       "    <tr>\n",
       "      <th>0</th>\n",
       "      <td>Reliance Inds.</td>\n",
       "      <td>583436.72</td>\n",
       "      <td>99810.00</td>\n",
       "    </tr>\n",
       "    <tr>\n",
       "      <th>1</th>\n",
       "      <td>TCS</td>\n",
       "      <td>563709.84</td>\n",
       "      <td>30904.00</td>\n",
       "    </tr>\n",
       "    <tr>\n",
       "      <th>2</th>\n",
       "      <td>HDFC Bank</td>\n",
       "      <td>482953.59</td>\n",
       "      <td>20581.27</td>\n",
       "    </tr>\n",
       "    <tr>\n",
       "      <th>3</th>\n",
       "      <td>ITC</td>\n",
       "      <td>320985.27</td>\n",
       "      <td>9772.02</td>\n",
       "    </tr>\n",
       "    <tr>\n",
       "      <th>4</th>\n",
       "      <td>H D F C</td>\n",
       "      <td>289497.37</td>\n",
       "      <td>16840.51</td>\n",
       "    </tr>\n",
       "  </tbody>\n",
       "</table>\n",
       "</div>"
      ],
      "text/plain": [
       "             Name  MarketCap_Crore  SalesQuater_Crore\n",
       "0  Reliance Inds.        583436.72           99810.00\n",
       "1             TCS        563709.84           30904.00\n",
       "2       HDFC Bank        482953.59           20581.27\n",
       "3             ITC        320985.27            9772.02\n",
       "4         H D F C        289497.37           16840.51"
      ]
     },
     "execution_count": 5,
     "metadata": {},
     "output_type": "execute_result"
    }
   ],
   "source": [
    "df.rename(columns = {\n",
    "    'Company Name': 'Name',\n",
    "    'Mar Cap - Crore': 'MarketCap_Crore',\n",
    "    'Sales Qtr - Crore': 'SalesQuater_Crore'\n",
    "}, inplace=True)\n",
    "\n",
    "df.head()"
   ]
  },
  {
   "cell_type": "markdown",
   "id": "9d78c969",
   "metadata": {},
   "source": [
    "### Checking for Duplicate Values"
   ]
  },
  {
   "cell_type": "code",
   "execution_count": 6,
   "id": "2e4d7efd",
   "metadata": {},
   "outputs": [
    {
     "name": "stdout",
     "output_type": "stream",
     "text": [
      "Number of Duplicate Values in the Dataset: 0\n"
     ]
    }
   ],
   "source": [
    "print(f'Number of Duplicate Values in the Dataset: {df.duplicated().sum()}')"
   ]
  },
  {
   "cell_type": "markdown",
   "id": "a94c5fa1",
   "metadata": {},
   "source": [
    "### Checking for Null Values"
   ]
  },
  {
   "cell_type": "code",
   "execution_count": 7,
   "id": "4448fec7",
   "metadata": {},
   "outputs": [
    {
     "name": "stdout",
     "output_type": "stream",
     "text": [
      "Number of Null Values in the Dataset:\n",
      "Name                  0\n",
      "MarketCap_Crore       9\n",
      "SalesQuater_Crore    29\n",
      "dtype: int64\n"
     ]
    }
   ],
   "source": [
    "print(f'Number of Null Values in the Dataset:\\n{df.isna().sum()}')"
   ]
  },
  {
   "cell_type": "code",
   "execution_count": 8,
   "id": "8a2efaa6",
   "metadata": {},
   "outputs": [
    {
     "data": {
      "text/plain": [
       "<AxesSubplot:>"
      ]
     },
     "execution_count": 8,
     "metadata": {},
     "output_type": "execute_result"
    },
    {
     "data": {
      "image/png": "[encoded data removed]",
      "text/plain": [
       "<Figure size 432x288 with 2 Axes>"
      ]
     },
     "metadata": {
      "needs_background": "light"
     },
     "output_type": "display_data"
    }
   ],
   "source": [
    "sns.heatmap(df.isna())"
   ]
  },
  {
   "cell_type": "markdown",
   "id": "f2b951d5",
   "metadata": {},
   "source": [
    "### Handling Null Values (Median)\n",
    "    - Outliers\n",
    "        Mean: Heavily influenced by extreme values (outliers), making it less representative of the data.\n",
    "        Median: Unaffected by outliers, providing a more robust measure of central tendency.\n",
    "        \n",
    "    - Skewed Distributions\n",
    "        Mean: Can be misleading in skewed distributions as it gets pulled towards the skew.\n",
    "        Median: Unaffected by skewness, better representing the central location of the data."
   ]
  },
  {
   "cell_type": "code",
   "execution_count": 9,
   "id": "549ea2c9",
   "metadata": {},
   "outputs": [
    {
     "data": {
      "text/plain": [
       "<seaborn.axisgrid.FacetGrid at 0x2e276ccbe20>"
      ]
     },
     "execution_count": 9,
     "metadata": {},
     "output_type": "execute_result"
    },
    {
     "data": {
      "image/png": "[encoded data removed]",
      "text/plain": [
       "<Figure size 360x360 with 1 Axes>"
      ]
     },
     "metadata": {
      "needs_background": "light"
     },
     "output_type": "display_data"
    }
   ],
   "source": [
    "sns.displot(df['MarketCap_Crore'])"
   ]
  },
  {
   "cell_type": "code",
   "execution_count": 10,
   "id": "f1440289",
   "metadata": {},
   "outputs": [
    {
     "data": {
      "text/plain": [
       "<seaborn.axisgrid.FacetGrid at 0x2e276dd46a0>"
      ]
     },
     "execution_count": 10,
     "metadata": {},
     "output_type": "execute_result"
    },
    {
     "data": {
      "image/png": "[encoded data removed]",
      "text/plain": [
       "<Figure size 360x360 with 1 Axes>"
      ]
     },
     "metadata": {
      "needs_background": "light"
     },
     "output_type": "display_data"
    }
   ],
   "source": [
    "sns.displot(df['SalesQuater_Crore'])"
   ]
  },
  {
   "cell_type": "code",
   "execution_count": 11,
   "id": "7721177d",
   "metadata": {},
   "outputs": [],
   "source": [
    "df['MarketCap_Crore'].fillna(df['MarketCap_Crore'].median(), inplace=True)\n",
    "df['SalesQuater_Crore'].fillna(df['SalesQuater_Crore'].median(), inplace=True)"
   ]
  },
  {
   "cell_type": "code",
   "execution_count": 12,
   "id": "bd0c4ddf",
   "metadata": {},
   "outputs": [
    {
     "data": {
      "text/plain": [
       "Name                 0\n",
       "MarketCap_Crore      0\n",
       "SalesQuater_Crore    0\n",
       "dtype: int64"
      ]
     },
     "execution_count": 12,
     "metadata": {},
     "output_type": "execute_result"
    }
   ],
   "source": [
    "df.isna().sum()"
   ]
  },
  {
   "cell_type": "code",
   "execution_count": 13,
   "id": "e0d4ea34",
   "metadata": {},
   "outputs": [
    {
     "data": {
      "text/plain": [
       "<AxesSubplot:>"
      ]
     },
     "execution_count": 13,
     "metadata": {},
     "output_type": "execute_result"
    },
    {
     "data": {
      "image/png": "[encoded data removed]",
      "text/plain": [
       "<Figure size 432x288 with 2 Axes>"
      ]
     },
     "metadata": {
      "needs_background": "light"
     },
     "output_type": "display_data"
    }
   ],
   "source": [
    "sns.heatmap(df.isna())"
   ]
  },
  {
   "cell_type": "markdown",
   "id": "39a766aa",
   "metadata": {},
   "source": [
    "# Data Visualization"
   ]
  },
  {
   "cell_type": "markdown",
   "id": "768f7764",
   "metadata": {},
   "source": [
    "### Top-7 and Bottom-7 Companies (Market Capitalization) "
   ]
  },
  {
   "cell_type": "code",
   "execution_count": 14,
   "id": "6493aabc",
   "metadata": {},
   "outputs": [
    {
     "data": {
      "text/html": [
       "<div>\n",
       "<style scoped>\n",
       "    .dataframe tbody tr th:only-of-type {\n",
       "        vertical-align: middle;\n",
       "    }\n",
       "\n",
       "    .dataframe tbody tr th {\n",
       "        vertical-align: top;\n",
       "    }\n",
       "\n",
       "    .dataframe thead th {\n",
       "        text-align: right;\n",
       "    }\n",
       "</style>\n",
       "<table border=\"1\" class=\"dataframe\">\n",
       "  <thead>\n",
       "    <tr style=\"text-align: right;\">\n",
       "      <th></th>\n",
       "      <th>Name</th>\n",
       "      <th>MarketCap_Crore</th>\n",
       "    </tr>\n",
       "  </thead>\n",
       "  <tbody>\n",
       "    <tr>\n",
       "      <th>0</th>\n",
       "      <td>Reliance Inds.</td>\n",
       "      <td>583436.72</td>\n",
       "    </tr>\n",
       "    <tr>\n",
       "      <th>1</th>\n",
       "      <td>TCS</td>\n",
       "      <td>563709.84</td>\n",
       "    </tr>\n",
       "    <tr>\n",
       "      <th>2</th>\n",
       "      <td>HDFC Bank</td>\n",
       "      <td>482953.59</td>\n",
       "    </tr>\n",
       "    <tr>\n",
       "      <th>3</th>\n",
       "      <td>ITC</td>\n",
       "      <td>320985.27</td>\n",
       "    </tr>\n",
       "    <tr>\n",
       "      <th>4</th>\n",
       "      <td>H D F C</td>\n",
       "      <td>289497.37</td>\n",
       "    </tr>\n",
       "    <tr>\n",
       "      <th>5</th>\n",
       "      <td>Hind. Unilever</td>\n",
       "      <td>288265.26</td>\n",
       "    </tr>\n",
       "    <tr>\n",
       "      <th>6</th>\n",
       "      <td>Maruti Suzuki</td>\n",
       "      <td>263493.81</td>\n",
       "    </tr>\n",
       "  </tbody>\n",
       "</table>\n",
       "</div>"
      ],
      "text/plain": [
       "             Name  MarketCap_Crore\n",
       "0  Reliance Inds.        583436.72\n",
       "1             TCS        563709.84\n",
       "2       HDFC Bank        482953.59\n",
       "3             ITC        320985.27\n",
       "4         H D F C        289497.37\n",
       "5  Hind. Unilever        288265.26\n",
       "6   Maruti Suzuki        263493.81"
      ]
     },
     "execution_count": 14,
     "metadata": {},
     "output_type": "execute_result"
    }
   ],
   "source": [
    "# MarketCap_Crore top 7\n",
    "top_7_df = df.nlargest(7, 'MarketCap_Crore')\n",
    "top_7_df[['Name', 'MarketCap_Crore']]"
   ]
  },
  {
   "cell_type": "code",
   "execution_count": 15,
   "id": "0f15d736",
   "metadata": {},
   "outputs": [
    {
     "data": {
      "text/html": [
       "<div>\n",
       "<style scoped>\n",
       "    .dataframe tbody tr th:only-of-type {\n",
       "        vertical-align: middle;\n",
       "    }\n",
       "\n",
       "    .dataframe tbody tr th {\n",
       "        vertical-align: top;\n",
       "    }\n",
       "\n",
       "    .dataframe thead th {\n",
       "        text-align: right;\n",
       "    }\n",
       "</style>\n",
       "<table border=\"1\" class=\"dataframe\">\n",
       "  <thead>\n",
       "    <tr style=\"text-align: right;\">\n",
       "      <th></th>\n",
       "      <th>Name</th>\n",
       "      <th>MarketCap_Crore</th>\n",
       "    </tr>\n",
       "  </thead>\n",
       "  <tbody>\n",
       "    <tr>\n",
       "      <th>480</th>\n",
       "      <td>Deepak Fert.</td>\n",
       "      <td>3079.06</td>\n",
       "    </tr>\n",
       "    <tr>\n",
       "      <th>481</th>\n",
       "      <td>Va Tech Wabag</td>\n",
       "      <td>3041.93</td>\n",
       "    </tr>\n",
       "    <tr>\n",
       "      <th>482</th>\n",
       "      <td>Prime Focus</td>\n",
       "      <td>3031.50</td>\n",
       "    </tr>\n",
       "    <tr>\n",
       "      <th>483</th>\n",
       "      <td>Lak. Vilas Bank</td>\n",
       "      <td>3029.57</td>\n",
       "    </tr>\n",
       "    <tr>\n",
       "      <th>484</th>\n",
       "      <td>NOCIL</td>\n",
       "      <td>3026.26</td>\n",
       "    </tr>\n",
       "    <tr>\n",
       "      <th>485</th>\n",
       "      <td>Orient Cement</td>\n",
       "      <td>3024.32</td>\n",
       "    </tr>\n",
       "    <tr>\n",
       "      <th>486</th>\n",
       "      <td>Natl.Fertilizer</td>\n",
       "      <td>3017.07</td>\n",
       "    </tr>\n",
       "  </tbody>\n",
       "</table>\n",
       "</div>"
      ],
      "text/plain": [
       "                Name  MarketCap_Crore\n",
       "480     Deepak Fert.          3079.06\n",
       "481    Va Tech Wabag          3041.93\n",
       "482      Prime Focus          3031.50\n",
       "483  Lak. Vilas Bank          3029.57\n",
       "484            NOCIL          3026.26\n",
       "485    Orient Cement          3024.32\n",
       "486  Natl.Fertilizer          3017.07"
      ]
     },
     "execution_count": 15,
     "metadata": {},
     "output_type": "execute_result"
    }
   ],
   "source": [
    "# MarketCap_Crore smallest 7\n",
    "bottom_7_df = df.nsmallest(7, 'MarketCap_Crore').sort_values(by='MarketCap_Crore', ascending=False)\n",
    "bottom_7_df[['Name', 'MarketCap_Crore']]"
   ]
  },
  {
   "cell_type": "code",
   "execution_count": 16,
   "id": "9affe135",
   "metadata": {},
   "outputs": [
    {
     "data": {
      "image/png": "[encoded data removed]",
      "text/plain": [
       "<Figure size 1296x504 with 2 Axes>"
      ]
     },
     "metadata": {
      "needs_background": "light"
     },
     "output_type": "display_data"
    }
   ],
   "source": [
    "# Two subplots\n",
    "fig, axes = plt.subplots(1, 2, figsize=(18, 7), sharey=False)\n",
    "\n",
    "# Top 7 Market Capitalization\n",
    "sns.barplot(x='Name', y='MarketCap_Crore', data=top_7_df, ax=axes[0], palette='viridis')\n",
    "axes[0].set_xticklabels(axes[0].get_xticklabels(), rotation=90)\n",
    "axes[0].set_title('Market Capitalization Comparison (Top 7 Companies)')\n",
    "\n",
    "# Smallest 7 Market Capitalization\n",
    "sns.scatterplot(x='MarketCap_Crore', y='Name', data=bottom_7_df, color='green', s=100, ax=axes[1])\n",
    "axes[1].set_title('Market Capitalization Comparision (Bottom 7 Companies)')\n",
    "axes[1].set_xlabel('MarketCap_Crore')\n",
    "\n",
    "plt.tight_layout()\n",
    "plt.show()"
   ]
  },
  {
   "cell_type": "markdown",
   "id": "76c9068b",
   "metadata": {},
   "source": [
    "### Top-7 and Bottom-7 Companies (Sales Quater) "
   ]
  },
  {
   "cell_type": "code",
   "execution_count": 17,
   "id": "2bd9c494",
   "metadata": {},
   "outputs": [
    {
     "data": {
      "text/html": [
       "<div>\n",
       "<style scoped>\n",
       "    .dataframe tbody tr th:only-of-type {\n",
       "        vertical-align: middle;\n",
       "    }\n",
       "\n",
       "    .dataframe tbody tr th {\n",
       "        vertical-align: top;\n",
       "    }\n",
       "\n",
       "    .dataframe thead th {\n",
       "        text-align: right;\n",
       "    }\n",
       "</style>\n",
       "<table border=\"1\" class=\"dataframe\">\n",
       "  <thead>\n",
       "    <tr style=\"text-align: right;\">\n",
       "      <th></th>\n",
       "      <th>Name</th>\n",
       "      <th>SalesQuater_Crore</th>\n",
       "    </tr>\n",
       "  </thead>\n",
       "  <tbody>\n",
       "    <tr>\n",
       "      <th>14</th>\n",
       "      <td>I O C L</td>\n",
       "      <td>110666.93</td>\n",
       "    </tr>\n",
       "    <tr>\n",
       "      <th>0</th>\n",
       "      <td>Reliance Inds.</td>\n",
       "      <td>99810.00</td>\n",
       "    </tr>\n",
       "    <tr>\n",
       "      <th>23</th>\n",
       "      <td>Tata Motors</td>\n",
       "      <td>74156.07</td>\n",
       "    </tr>\n",
       "    <tr>\n",
       "      <th>27</th>\n",
       "      <td>B P C L</td>\n",
       "      <td>60616.36</td>\n",
       "    </tr>\n",
       "    <tr>\n",
       "      <th>54</th>\n",
       "      <td>H P C L</td>\n",
       "      <td>57474.25</td>\n",
       "    </tr>\n",
       "    <tr>\n",
       "      <th>9</th>\n",
       "      <td>St Bk of India</td>\n",
       "      <td>57014.08</td>\n",
       "    </tr>\n",
       "    <tr>\n",
       "      <th>122</th>\n",
       "      <td>Rajesh Exports</td>\n",
       "      <td>41304.84</td>\n",
       "    </tr>\n",
       "  </tbody>\n",
       "</table>\n",
       "</div>"
      ],
      "text/plain": [
       "               Name  SalesQuater_Crore\n",
       "14          I O C L          110666.93\n",
       "0    Reliance Inds.           99810.00\n",
       "23      Tata Motors           74156.07\n",
       "27          B P C L           60616.36\n",
       "54          H P C L           57474.25\n",
       "9    St Bk of India           57014.08\n",
       "122  Rajesh Exports           41304.84"
      ]
     },
     "execution_count": 17,
     "metadata": {},
     "output_type": "execute_result"
    }
   ],
   "source": [
    "# SalesQuater_Crore top 7\n",
    "top_7_df = df.nlargest(7, 'SalesQuater_Crore')\n",
    "top_7_df[['Name', 'SalesQuater_Crore']]"
   ]
  },
  {
   "cell_type": "code",
   "execution_count": 18,
   "id": "cae63b28",
   "metadata": {},
   "outputs": [
    {
     "data": {
      "text/html": [
       "<div>\n",
       "<style scoped>\n",
       "    .dataframe tbody tr th:only-of-type {\n",
       "        vertical-align: middle;\n",
       "    }\n",
       "\n",
       "    .dataframe tbody tr th {\n",
       "        vertical-align: top;\n",
       "    }\n",
       "\n",
       "    .dataframe thead th {\n",
       "        text-align: right;\n",
       "    }\n",
       "</style>\n",
       "<table border=\"1\" class=\"dataframe\">\n",
       "  <thead>\n",
       "    <tr style=\"text-align: right;\">\n",
       "      <th></th>\n",
       "      <th>Name</th>\n",
       "      <th>SalesQuater_Crore</th>\n",
       "    </tr>\n",
       "  </thead>\n",
       "  <tbody>\n",
       "    <tr>\n",
       "      <th>373</th>\n",
       "      <td>Indian Energy Ex</td>\n",
       "      <td>64.75</td>\n",
       "    </tr>\n",
       "    <tr>\n",
       "      <th>388</th>\n",
       "      <td>Forbes &amp; Co</td>\n",
       "      <td>63.93</td>\n",
       "    </tr>\n",
       "    <tr>\n",
       "      <th>422</th>\n",
       "      <td>Multi Comm. Exc.</td>\n",
       "      <td>60.97</td>\n",
       "    </tr>\n",
       "    <tr>\n",
       "      <th>467</th>\n",
       "      <td>Central Dep. Ser</td>\n",
       "      <td>47.24</td>\n",
       "    </tr>\n",
       "    <tr>\n",
       "      <th>382</th>\n",
       "      <td>Tata Inv.Corpn.</td>\n",
       "      <td>47.02</td>\n",
       "    </tr>\n",
       "    <tr>\n",
       "      <th>228</th>\n",
       "      <td>SPARC</td>\n",
       "      <td>19.42</td>\n",
       "    </tr>\n",
       "    <tr>\n",
       "      <th>393</th>\n",
       "      <td>Ujjivan Fin.Ser.</td>\n",
       "      <td>0.00</td>\n",
       "    </tr>\n",
       "  </tbody>\n",
       "</table>\n",
       "</div>"
      ],
      "text/plain": [
       "                 Name  SalesQuater_Crore\n",
       "373  Indian Energy Ex              64.75\n",
       "388       Forbes & Co              63.93\n",
       "422  Multi Comm. Exc.              60.97\n",
       "467  Central Dep. Ser              47.24\n",
       "382   Tata Inv.Corpn.              47.02\n",
       "228             SPARC              19.42\n",
       "393  Ujjivan Fin.Ser.               0.00"
      ]
     },
     "execution_count": 18,
     "metadata": {},
     "output_type": "execute_result"
    }
   ],
   "source": [
    "# SalesQuater_Crore smallest 7\n",
    "bottom_7_df = df.nsmallest(7, 'SalesQuater_Crore').sort_values(by='SalesQuater_Crore', ascending=False)\n",
    "bottom_7_df[['Name', 'SalesQuater_Crore']]"
   ]
  },
  {
   "cell_type": "code",
   "execution_count": 19,
   "id": "80083a40",
   "metadata": {},
   "outputs": [
    {
     "data": {
      "image/png": "[encoded data removed]",
      "text/plain": [
       "<Figure size 1296x504 with 2 Axes>"
      ]
     },
     "metadata": {
      "needs_background": "light"
     },
     "output_type": "display_data"
    }
   ],
   "source": [
    "# Two subplots\n",
    "fig, axes = plt.subplots(1, 2, figsize=(18, 7), sharey=False)\n",
    "\n",
    "# Top 7 Sales Quater\n",
    "sns.barplot(x='Name', y='SalesQuater_Crore', data=top_7_df, ax=axes[0], palette='plasma')\n",
    "axes[0].set_xticklabels(axes[0].get_xticklabels(), rotation=90)\n",
    "axes[0].set_title('Sales Quater Comparison (Top 7 Companies)')\n",
    "\n",
    "# Smallest 7 Sales Quater\n",
    "sns.scatterplot(x='SalesQuater_Crore', y='Name', data=bottom_7_df, color='black', s=100, ax=axes[1])\n",
    "axes[1].set_title('Sales Quater Comparision (Bottom 7 Companies)')\n",
    "axes[1].set_xlabel('SalesQuater_Crore')\n",
    "\n",
    "plt.tight_layout()\n",
    "plt.show()"
   ]
  },
  {
   "cell_type": "markdown",
   "id": "2fd4eaf8",
   "metadata": {},
   "source": [
    "### Market Capitalization vs. Quarterly Sales"
   ]
  },
  {
   "cell_type": "code",
   "execution_count": 20,
   "id": "f28310f7",
   "metadata": {},
   "outputs": [
    {
     "data": {
      "image/png": "[encoded data removed]",
      "text/plain": [
       "<Figure size 864x576 with 1 Axes>"
      ]
     },
     "metadata": {
      "needs_background": "light"
     },
     "output_type": "display_data"
    }
   ],
   "source": [
    "plt.figure(figsize=(12, 8))\n",
    "\n",
    "# Plot Market Capitalization\n",
    "sns.scatterplot(x='MarketCap_Crore', y='SalesQuater_Crore', data=df,\n",
    "                color='blue', label='Market Cap', marker='o', s=100)\n",
    "\n",
    "# Plot Sales\n",
    "sns.scatterplot(x='SalesQuater_Crore', y='SalesQuater_Crore', data=df,\n",
    "                color='red', label='Quarterly Sales', marker='x', s=100)\n",
    "\n",
    "# MetaData\n",
    "plt.title('Market Capitalization vs. Quarterly Sales')\n",
    "plt.xlabel('Market Capitalization (Crore)')\n",
    "plt.ylabel('Quarterly Sales (Crore)')\n",
    "plt.legend(title='Legend')\n",
    "plt.grid(True)\n",
    "\n",
    "# Show plot\n",
    "plt.show()"
   ]
  },
  {
   "cell_type": "markdown",
   "id": "f4ec6fb2",
   "metadata": {},
   "source": [
    "### Adding a new column named 'MarketCap_Sales_Ratio' to the dataframe \n",
    "    - Formula:\n",
    "        MarketCap Sales Ratio = Market Cap/ Quaterly Sales \n",
    "    - This ratio provides insight into the profitability of our investment in the company or its stock."
   ]
  },
  {
   "cell_type": "code",
   "execution_count": 21,
   "id": "73311981",
   "metadata": {},
   "outputs": [
    {
     "data": {
      "text/html": [
       "<div>\n",
       "<style scoped>\n",
       "    .dataframe tbody tr th:only-of-type {\n",
       "        vertical-align: middle;\n",
       "    }\n",
       "\n",
       "    .dataframe tbody tr th {\n",
       "        vertical-align: top;\n",
       "    }\n",
       "\n",
       "    .dataframe thead th {\n",
       "        text-align: right;\n",
       "    }\n",
       "</style>\n",
       "<table border=\"1\" class=\"dataframe\">\n",
       "  <thead>\n",
       "    <tr style=\"text-align: right;\">\n",
       "      <th></th>\n",
       "      <th>Name</th>\n",
       "      <th>MarketCap_Crore</th>\n",
       "      <th>SalesQuater_Crore</th>\n",
       "      <th>MarketCap_Sales_Ratio</th>\n",
       "    </tr>\n",
       "  </thead>\n",
       "  <tbody>\n",
       "    <tr>\n",
       "      <th>0</th>\n",
       "      <td>Reliance Inds.</td>\n",
       "      <td>583436.72</td>\n",
       "      <td>99810.00</td>\n",
       "      <td>5.845474</td>\n",
       "    </tr>\n",
       "    <tr>\n",
       "      <th>1</th>\n",
       "      <td>TCS</td>\n",
       "      <td>563709.84</td>\n",
       "      <td>30904.00</td>\n",
       "      <td>18.240676</td>\n",
       "    </tr>\n",
       "    <tr>\n",
       "      <th>2</th>\n",
       "      <td>HDFC Bank</td>\n",
       "      <td>482953.59</td>\n",
       "      <td>20581.27</td>\n",
       "      <td>23.465685</td>\n",
       "    </tr>\n",
       "    <tr>\n",
       "      <th>3</th>\n",
       "      <td>ITC</td>\n",
       "      <td>320985.27</td>\n",
       "      <td>9772.02</td>\n",
       "      <td>32.847382</td>\n",
       "    </tr>\n",
       "    <tr>\n",
       "      <th>4</th>\n",
       "      <td>H D F C</td>\n",
       "      <td>289497.37</td>\n",
       "      <td>16840.51</td>\n",
       "      <td>17.190535</td>\n",
       "    </tr>\n",
       "    <tr>\n",
       "      <th>...</th>\n",
       "      <td>...</td>\n",
       "      <td>...</td>\n",
       "      <td>...</td>\n",
       "      <td>...</td>\n",
       "    </tr>\n",
       "    <tr>\n",
       "      <th>483</th>\n",
       "      <td>Lak. Vilas Bank</td>\n",
       "      <td>3029.57</td>\n",
       "      <td>790.17</td>\n",
       "      <td>3.834074</td>\n",
       "    </tr>\n",
       "    <tr>\n",
       "      <th>484</th>\n",
       "      <td>NOCIL</td>\n",
       "      <td>3026.26</td>\n",
       "      <td>249.27</td>\n",
       "      <td>12.140490</td>\n",
       "    </tr>\n",
       "    <tr>\n",
       "      <th>485</th>\n",
       "      <td>Orient Cement</td>\n",
       "      <td>3024.32</td>\n",
       "      <td>511.53</td>\n",
       "      <td>5.912302</td>\n",
       "    </tr>\n",
       "    <tr>\n",
       "      <th>486</th>\n",
       "      <td>Natl.Fertilizer</td>\n",
       "      <td>3017.07</td>\n",
       "      <td>2840.75</td>\n",
       "      <td>1.062068</td>\n",
       "    </tr>\n",
       "    <tr>\n",
       "      <th>487</th>\n",
       "      <td>L T Foods</td>\n",
       "      <td>9885.05</td>\n",
       "      <td>1137.17</td>\n",
       "      <td>8.692676</td>\n",
       "    </tr>\n",
       "  </tbody>\n",
       "</table>\n",
       "<p>488 rows × 4 columns</p>\n",
       "</div>"
      ],
      "text/plain": [
       "                Name  MarketCap_Crore  SalesQuater_Crore  \\\n",
       "0     Reliance Inds.        583436.72           99810.00   \n",
       "1                TCS        563709.84           30904.00   \n",
       "2          HDFC Bank        482953.59           20581.27   \n",
       "3                ITC        320985.27            9772.02   \n",
       "4            H D F C        289497.37           16840.51   \n",
       "..               ...              ...                ...   \n",
       "483  Lak. Vilas Bank          3029.57             790.17   \n",
       "484            NOCIL          3026.26             249.27   \n",
       "485    Orient Cement          3024.32             511.53   \n",
       "486  Natl.Fertilizer          3017.07            2840.75   \n",
       "487        L T Foods          9885.05            1137.17   \n",
       "\n",
       "     MarketCap_Sales_Ratio  \n",
       "0                 5.845474  \n",
       "1                18.240676  \n",
       "2                23.465685  \n",
       "3                32.847382  \n",
       "4                17.190535  \n",
       "..                     ...  \n",
       "483               3.834074  \n",
       "484              12.140490  \n",
       "485               5.912302  \n",
       "486               1.062068  \n",
       "487               8.692676  \n",
       "\n",
       "[488 rows x 4 columns]"
      ]
     },
     "execution_count": 21,
     "metadata": {},
     "output_type": "execute_result"
    }
   ],
   "source": [
    "# Create a new column for the ratio of Market Cap to Sales\n",
    "df['MarketCap_Sales_Ratio'] = df['MarketCap_Crore'] / df['SalesQuater_Crore']\n",
    "df"
   ]
  },
  {
   "cell_type": "markdown",
   "id": "39f47ca9",
   "metadata": {},
   "source": [
    "### Top-10 Good Investment and Top-10 Bad Investment Companies (MarketCap Sales Ratio) \n",
    "       - Good: Good Investment Companies currently\n",
    "       - Bad: Bad Investment Companies currently"
   ]
  },
  {
   "cell_type": "code",
   "execution_count": 22,
   "id": "e619e11b",
   "metadata": {},
   "outputs": [
    {
     "data": {
      "text/html": [
       "<div>\n",
       "<style scoped>\n",
       "    .dataframe tbody tr th:only-of-type {\n",
       "        vertical-align: middle;\n",
       "    }\n",
       "\n",
       "    .dataframe tbody tr th {\n",
       "        vertical-align: top;\n",
       "    }\n",
       "\n",
       "    .dataframe thead th {\n",
       "        text-align: right;\n",
       "    }\n",
       "</style>\n",
       "<table border=\"1\" class=\"dataframe\">\n",
       "  <thead>\n",
       "    <tr style=\"text-align: right;\">\n",
       "      <th></th>\n",
       "      <th>Name</th>\n",
       "      <th>MarketCap_Sales_Ratio</th>\n",
       "    </tr>\n",
       "  </thead>\n",
       "  <tbody>\n",
       "    <tr>\n",
       "      <th>320</th>\n",
       "      <td>Redington India</td>\n",
       "      <td>0.502757</td>\n",
       "    </tr>\n",
       "    <tr>\n",
       "      <th>122</th>\n",
       "      <td>Rajesh Exports</td>\n",
       "      <td>0.568833</td>\n",
       "    </tr>\n",
       "    <tr>\n",
       "      <th>334</th>\n",
       "      <td>C P C L</td>\n",
       "      <td>0.632085</td>\n",
       "    </tr>\n",
       "    <tr>\n",
       "      <th>441</th>\n",
       "      <td>Corporation Bank</td>\n",
       "      <td>0.846989</td>\n",
       "    </tr>\n",
       "    <tr>\n",
       "      <th>444</th>\n",
       "      <td>Oriental Bank</td>\n",
       "      <td>0.862161</td>\n",
       "    </tr>\n",
       "    <tr>\n",
       "      <th>410</th>\n",
       "      <td>Andhra Bank</td>\n",
       "      <td>0.894047</td>\n",
       "    </tr>\n",
       "    <tr>\n",
       "      <th>405</th>\n",
       "      <td>Allahabad Bank</td>\n",
       "      <td>0.974853</td>\n",
       "    </tr>\n",
       "    <tr>\n",
       "      <th>54</th>\n",
       "      <td>H P C L</td>\n",
       "      <td>1.009753</td>\n",
       "    </tr>\n",
       "    <tr>\n",
       "      <th>486</th>\n",
       "      <td>Natl.Fertilizer</td>\n",
       "      <td>1.062068</td>\n",
       "    </tr>\n",
       "    <tr>\n",
       "      <th>316</th>\n",
       "      <td>Syndicate Bank</td>\n",
       "      <td>1.132228</td>\n",
       "    </tr>\n",
       "  </tbody>\n",
       "</table>\n",
       "</div>"
      ],
      "text/plain": [
       "                 Name  MarketCap_Sales_Ratio\n",
       "320   Redington India               0.502757\n",
       "122    Rajesh Exports               0.568833\n",
       "334           C P C L               0.632085\n",
       "441  Corporation Bank               0.846989\n",
       "444     Oriental Bank               0.862161\n",
       "410       Andhra Bank               0.894047\n",
       "405    Allahabad Bank               0.974853\n",
       "54            H P C L               1.009753\n",
       "486   Natl.Fertilizer               1.062068\n",
       "316    Syndicate Bank               1.132228"
      ]
     },
     "execution_count": 22,
     "metadata": {},
     "output_type": "execute_result"
    }
   ],
   "source": [
    "# MarketCap Sales Ratio Top-10 Good Investment Companies currently\n",
    "good_inv_df = df.nsmallest(10, 'MarketCap_Sales_Ratio')\n",
    "good_inv_df[['Name', 'MarketCap_Sales_Ratio']]"
   ]
  },
  {
   "cell_type": "code",
   "execution_count": 23,
   "id": "297e4e3c",
   "metadata": {},
   "outputs": [
    {
     "data": {
      "text/html": [
       "<div>\n",
       "<style scoped>\n",
       "    .dataframe tbody tr th:only-of-type {\n",
       "        vertical-align: middle;\n",
       "    }\n",
       "\n",
       "    .dataframe tbody tr th {\n",
       "        vertical-align: top;\n",
       "    }\n",
       "\n",
       "    .dataframe thead th {\n",
       "        text-align: right;\n",
       "    }\n",
       "</style>\n",
       "<table border=\"1\" class=\"dataframe\">\n",
       "  <thead>\n",
       "    <tr style=\"text-align: right;\">\n",
       "      <th></th>\n",
       "      <th>Name</th>\n",
       "      <th>MarketCap_Sales_Ratio</th>\n",
       "    </tr>\n",
       "  </thead>\n",
       "  <tbody>\n",
       "    <tr>\n",
       "      <th>393</th>\n",
       "      <td>Ujjivan Fin.Ser.</td>\n",
       "      <td>inf</td>\n",
       "    </tr>\n",
       "    <tr>\n",
       "      <th>228</th>\n",
       "      <td>SPARC</td>\n",
       "      <td>553.817199</td>\n",
       "    </tr>\n",
       "    <tr>\n",
       "      <th>95</th>\n",
       "      <td>Bajaj Holdings</td>\n",
       "      <td>95.346673</td>\n",
       "    </tr>\n",
       "    <tr>\n",
       "      <th>382</th>\n",
       "      <td>Tata Inv.Corpn.</td>\n",
       "      <td>93.612505</td>\n",
       "    </tr>\n",
       "    <tr>\n",
       "      <th>373</th>\n",
       "      <td>Indian Energy Ex</td>\n",
       "      <td>70.976062</td>\n",
       "    </tr>\n",
       "    <tr>\n",
       "      <th>467</th>\n",
       "      <td>Central Dep. Ser</td>\n",
       "      <td>70.201312</td>\n",
       "    </tr>\n",
       "    <tr>\n",
       "      <th>388</th>\n",
       "      <td>Forbes &amp; Co</td>\n",
       "      <td>67.758799</td>\n",
       "    </tr>\n",
       "    <tr>\n",
       "      <th>422</th>\n",
       "      <td>Multi Comm. Exc.</td>\n",
       "      <td>63.099721</td>\n",
       "    </tr>\n",
       "    <tr>\n",
       "      <th>245</th>\n",
       "      <td>Delta Corp</td>\n",
       "      <td>58.775174</td>\n",
       "    </tr>\n",
       "    <tr>\n",
       "      <th>239</th>\n",
       "      <td>ERIS Lifescience</td>\n",
       "      <td>56.472257</td>\n",
       "    </tr>\n",
       "  </tbody>\n",
       "</table>\n",
       "</div>"
      ],
      "text/plain": [
       "                 Name  MarketCap_Sales_Ratio\n",
       "393  Ujjivan Fin.Ser.                    inf\n",
       "228             SPARC             553.817199\n",
       "95     Bajaj Holdings              95.346673\n",
       "382   Tata Inv.Corpn.              93.612505\n",
       "373  Indian Energy Ex              70.976062\n",
       "467  Central Dep. Ser              70.201312\n",
       "388       Forbes & Co              67.758799\n",
       "422  Multi Comm. Exc.              63.099721\n",
       "245        Delta Corp              58.775174\n",
       "239  ERIS Lifescience              56.472257"
      ]
     },
     "execution_count": 23,
     "metadata": {},
     "output_type": "execute_result"
    }
   ],
   "source": [
    "# MarketCap Sales Ratio Top-10 Bad Investment Companies currently\n",
    "bad_inv_df = df.nlargest(10, 'MarketCap_Sales_Ratio')\n",
    "bad_inv_df[['Name', 'MarketCap_Sales_Ratio']]"
   ]
  },
  {
   "cell_type": "code",
   "execution_count": 24,
   "id": "0629547a",
   "metadata": {},
   "outputs": [
    {
     "data": {
      "image/png": "[encoded data removed]",
      "text/plain": [
       "<Figure size 1296x504 with 2 Axes>"
      ]
     },
     "metadata": {
      "needs_background": "light"
     },
     "output_type": "display_data"
    }
   ],
   "source": [
    "# Two subplots\n",
    "fig, axes = plt.subplots(1, 2, figsize=(18, 7), sharey=False)\n",
    "\n",
    "# Top-10 Good Investment Companies currently\n",
    "sns.barplot(x='Name', y='MarketCap_Sales_Ratio', data=good_inv_df, ax=axes[0], palette='Spectral')\n",
    "axes[0].set_xticklabels(axes[0].get_xticklabels(), rotation=90)\n",
    "axes[0].set_title('MarketCap Sales Ratio Comparison (Top-10 Good Investment Companies)')\n",
    "\n",
    "# Top-10 Bad Investment Companies currently\n",
    "sns.barplot(x='MarketCap_Sales_Ratio', y='Name', data=bad_inv_df, ax=axes[1], palette='Accent')\n",
    "axes[1].set_title('MarketCap Sales Ratio Comparison (Top-10 Bad Investment Companies)')\n",
    "axes[1].set_xlabel('MarketCap_Sales_Ratio')\n",
    "\n",
    "plt.tight_layout()\n",
    "plt.show()"
   ]
  },
  {
   "cell_type": "code",
   "execution_count": null,
   "id": "52fff810",
   "metadata": {},
   "outputs": [],
   "source": []
  }
 ],
 "metadata": {
  "kernelspec": {
   "display_name": "Python 3",
   "language": "python",
   "name": "python3"
  },
  "language_info": {
   "codemirror_mode": {
    "name": "ipython",
    "version": 3
   },
   "file_extension": ".py",
   "mimetype": "text/x-python",
   "name": "python",
   "nbconvert_exporter": "python",
   "pygments_lexer": "ipython3",
   "version": "3.8.8"
  }
 },
 "nbformat": 4,
 "nbformat_minor": 5
}
